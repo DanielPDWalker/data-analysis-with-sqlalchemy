{
 "cells": [
  {
   "cell_type": "markdown",
   "metadata": {},
   "source": [
    "# Creating a database with sqlalchemy and sqlite"
   ]
  },
  {
   "cell_type": "markdown",
   "metadata": {},
   "source": [
    "Quick demonstration of how to create a database to use to store datasets that are too big to store in memory. \n",
    "\n",
    "  I created a database and populated it from a 2.5gb csv file, so that I could run SQL queries to get small datasets into memory rather than the whole thing. (Dataset and database not included in this repository as they are too big, you can find the raw dataset [here on kaggle](https://www.kaggle.com/yingwurenjian/chicago-divvy-bicycle-sharing-data/)).\n",
    "  \n",
    "  This notebook has had its output cells frozen so you can still see the results of running the code, and that the finished database did actually work.\n"
   ]
  },
  {
   "cell_type": "code",
   "execution_count": 1,
   "metadata": {},
   "outputs": [],
   "source": [
    "import pandas as pd\n",
    "\n",
    "import warnings\n",
    "warnings.filterwarnings(\"ignore\")\n",
    "\n",
    "import sqlite3\n",
    "from sqlalchemy import create_engine"
   ]
  },
  {
   "cell_type": "code",
   "execution_count": 2,
   "metadata": {
    "metadata": {
     "deletable": false,
     "editable": false,
     "trusted": true
    }
   },
   "outputs": [
    {
     "name": "stdout",
     "output_type": "stream",
     "text": [
      "File directory: ./data/data.csv\n"
     ]
    }
   ],
   "source": [
    "# Setting variables for data directory and file.\n",
    "DIR = \"./data\"\n",
    "FILE = '/data.csv'\n",
    "\n",
    "file = '{}{}'.format(DIR, FILE)\n",
    "\n",
    "# Quick test we have the correct path.\n",
    "print('File directory: {}'.format(file))"
   ]
  },
  {
   "cell_type": "code",
   "execution_count": 3,
   "metadata": {
    "metadata": {
     "deletable": false,
     "editable": false,
     "trusted": true
    }
   },
   "outputs": [
    {
     "data": {
      "text/html": [
       "<div>\n",
       "<style scoped>\n",
       "    .dataframe tbody tr th:only-of-type {\n",
       "        vertical-align: middle;\n",
       "    }\n",
       "\n",
       "    .dataframe tbody tr th {\n",
       "        vertical-align: top;\n",
       "    }\n",
       "\n",
       "    .dataframe thead th {\n",
       "        text-align: right;\n",
       "    }\n",
       "</style>\n",
       "<table border=\"1\" class=\"dataframe\">\n",
       "  <thead>\n",
       "    <tr style=\"text-align: right;\">\n",
       "      <th></th>\n",
       "      <th>trip_id</th>\n",
       "      <th>year</th>\n",
       "      <th>month</th>\n",
       "      <th>week</th>\n",
       "      <th>day</th>\n",
       "      <th>hour</th>\n",
       "      <th>usertype</th>\n",
       "      <th>gender</th>\n",
       "      <th>starttime</th>\n",
       "      <th>stoptime</th>\n",
       "      <th>...</th>\n",
       "      <th>from_station_id</th>\n",
       "      <th>from_station_name</th>\n",
       "      <th>latitude_start</th>\n",
       "      <th>longitude_start</th>\n",
       "      <th>dpcapacity_start</th>\n",
       "      <th>to_station_id</th>\n",
       "      <th>to_station_name</th>\n",
       "      <th>latitude_end</th>\n",
       "      <th>longitude_end</th>\n",
       "      <th>dpcapacity_end</th>\n",
       "    </tr>\n",
       "  </thead>\n",
       "  <tbody>\n",
       "    <tr>\n",
       "      <td>0</td>\n",
       "      <td>2355134</td>\n",
       "      <td>2014</td>\n",
       "      <td>6</td>\n",
       "      <td>27</td>\n",
       "      <td>0</td>\n",
       "      <td>23</td>\n",
       "      <td>Subscriber</td>\n",
       "      <td>Male</td>\n",
       "      <td>2014-06-30 23:57:00</td>\n",
       "      <td>2014-07-01 00:07:00</td>\n",
       "      <td>...</td>\n",
       "      <td>131</td>\n",
       "      <td>Lincoln Ave &amp; Belmont Ave</td>\n",
       "      <td>41.939365</td>\n",
       "      <td>-87.668385</td>\n",
       "      <td>15.0</td>\n",
       "      <td>303</td>\n",
       "      <td>Broadway &amp; Cornelia Ave</td>\n",
       "      <td>41.945512</td>\n",
       "      <td>-87.645980</td>\n",
       "      <td>15.0</td>\n",
       "    </tr>\n",
       "    <tr>\n",
       "      <td>1</td>\n",
       "      <td>2355133</td>\n",
       "      <td>2014</td>\n",
       "      <td>6</td>\n",
       "      <td>27</td>\n",
       "      <td>0</td>\n",
       "      <td>23</td>\n",
       "      <td>Subscriber</td>\n",
       "      <td>Male</td>\n",
       "      <td>2014-06-30 23:56:00</td>\n",
       "      <td>2014-07-01 00:00:00</td>\n",
       "      <td>...</td>\n",
       "      <td>282</td>\n",
       "      <td>Halsted St &amp; Maxwell St</td>\n",
       "      <td>41.864580</td>\n",
       "      <td>-87.646930</td>\n",
       "      <td>15.0</td>\n",
       "      <td>22</td>\n",
       "      <td>May St &amp; Taylor St</td>\n",
       "      <td>41.869482</td>\n",
       "      <td>-87.655486</td>\n",
       "      <td>15.0</td>\n",
       "    </tr>\n",
       "  </tbody>\n",
       "</table>\n",
       "<p>2 rows × 23 columns</p>\n",
       "</div>"
      ],
      "text/plain": [
       "   trip_id  year  month  week  day  hour    usertype gender  \\\n",
       "0  2355134  2014      6    27    0    23  Subscriber   Male   \n",
       "1  2355133  2014      6    27    0    23  Subscriber   Male   \n",
       "\n",
       "             starttime             stoptime  ...  from_station_id  \\\n",
       "0  2014-06-30 23:57:00  2014-07-01 00:07:00  ...              131   \n",
       "1  2014-06-30 23:56:00  2014-07-01 00:00:00  ...              282   \n",
       "\n",
       "           from_station_name latitude_start  longitude_start dpcapacity_start  \\\n",
       "0  Lincoln Ave & Belmont Ave      41.939365       -87.668385             15.0   \n",
       "1    Halsted St & Maxwell St      41.864580       -87.646930             15.0   \n",
       "\n",
       "   to_station_id          to_station_name  latitude_end  longitude_end  \\\n",
       "0            303  Broadway & Cornelia Ave     41.945512     -87.645980   \n",
       "1             22       May St & Taylor St     41.869482     -87.655486   \n",
       "\n",
       "  dpcapacity_end  \n",
       "0           15.0  \n",
       "1           15.0  \n",
       "\n",
       "[2 rows x 23 columns]"
      ]
     },
     "execution_count": 3,
     "metadata": {},
     "output_type": "execute_result"
    }
   ],
   "source": [
    "# Test data import\n",
    "df = pd.read_csv(file, nrows=2)\n",
    "df.head()"
   ]
  },
  {
   "cell_type": "code",
   "execution_count": 4,
   "metadata": {
    "metadata": {
     "deletable": false,
     "editable": false,
     "trusted": true
    }
   },
   "outputs": [],
   "source": [
    "# Connecting to the database\n",
    "csv_database = create_engine('sqlite:///csv_database.db')"
   ]
  },
  {
   "cell_type": "code",
   "execution_count": 5,
   "metadata": {
    "metadata": {
     "deletable": false,
     "editable": false,
     "trusted": true
    }
   },
   "outputs": [
    {
     "name": "stdout",
     "output_type": "stream",
     "text": [
      "|  index: 1000000\n",
      "|  index: 3000000\n",
      "|  index: 6000000\n",
      "|  index: 10000000\n",
      "|  index: 15000000\n",
      "|  index: 21000000\n",
      "|  index: 28000000\n",
      "|  index: 36000000\n",
      "|  index: 45000000\n",
      "|  index: 54495235\n"
     ]
    }
   ],
   "source": [
    "# Building the database via chunking\n",
    "chunksize = 1000000\n",
    "i = 0\n",
    "\n",
    "for df in pd.read_csv(file, chunksize = chunksize, iterator=True):\n",
    "    df = df.rename(columns = {c: c.replace(' ', '') for c in df.columns})\n",
    "    df.index += i\n",
    "    \n",
    "    df.to_sql('data', csv_database, if_exists = 'append')\n",
    "    i = df.index[-1]+1\n",
    "    \n",
    "    print('|  index: {}'.format(i))"
   ]
  },
  {
   "cell_type": "code",
   "execution_count": 6,
   "metadata": {
    "metadata": {
     "deletable": false,
     "editable": false,
     "trusted": true
    }
   },
   "outputs": [],
   "source": [
    "df = pd.read_sql_query('SELECT * FROM data WHERE from_station_id=131', csv_database)"
   ]
  },
  {
   "cell_type": "code",
   "execution_count": 7,
   "metadata": {
    "metadata": {
     "deletable": false,
     "editable": false,
     "trusted": true
    }
   },
   "outputs": [
    {
     "data": {
      "text/html": [
       "<div>\n",
       "<style scoped>\n",
       "    .dataframe tbody tr th:only-of-type {\n",
       "        vertical-align: middle;\n",
       "    }\n",
       "\n",
       "    .dataframe tbody tr th {\n",
       "        vertical-align: top;\n",
       "    }\n",
       "\n",
       "    .dataframe thead th {\n",
       "        text-align: right;\n",
       "    }\n",
       "</style>\n",
       "<table border=\"1\" class=\"dataframe\">\n",
       "  <thead>\n",
       "    <tr style=\"text-align: right;\">\n",
       "      <th></th>\n",
       "      <th>index</th>\n",
       "      <th>trip_id</th>\n",
       "      <th>year</th>\n",
       "      <th>month</th>\n",
       "      <th>week</th>\n",
       "      <th>day</th>\n",
       "      <th>hour</th>\n",
       "      <th>usertype</th>\n",
       "      <th>gender</th>\n",
       "      <th>starttime</th>\n",
       "      <th>...</th>\n",
       "      <th>from_station_id</th>\n",
       "      <th>from_station_name</th>\n",
       "      <th>latitude_start</th>\n",
       "      <th>longitude_start</th>\n",
       "      <th>dpcapacity_start</th>\n",
       "      <th>to_station_id</th>\n",
       "      <th>to_station_name</th>\n",
       "      <th>latitude_end</th>\n",
       "      <th>longitude_end</th>\n",
       "      <th>dpcapacity_end</th>\n",
       "    </tr>\n",
       "  </thead>\n",
       "  <tbody>\n",
       "    <tr>\n",
       "      <td>19698</td>\n",
       "      <td>54492364</td>\n",
       "      <td>16739309</td>\n",
       "      <td>2017</td>\n",
       "      <td>10</td>\n",
       "      <td>39</td>\n",
       "      <td>6</td>\n",
       "      <td>13</td>\n",
       "      <td>Subscriber</td>\n",
       "      <td>Male</td>\n",
       "      <td>2017-10-01 13:04:00</td>\n",
       "      <td>...</td>\n",
       "      <td>131</td>\n",
       "      <td>Lincoln Ave &amp; Belmont Ave</td>\n",
       "      <td>41.939365</td>\n",
       "      <td>-87.668385</td>\n",
       "      <td>15.0</td>\n",
       "      <td>214</td>\n",
       "      <td>Damen Ave &amp; Grand Ave</td>\n",
       "      <td>41.891220</td>\n",
       "      <td>-87.676860</td>\n",
       "      <td>23.0</td>\n",
       "    </tr>\n",
       "    <tr>\n",
       "      <td>19699</td>\n",
       "      <td>54492992</td>\n",
       "      <td>16738014</td>\n",
       "      <td>2017</td>\n",
       "      <td>10</td>\n",
       "      <td>39</td>\n",
       "      <td>6</td>\n",
       "      <td>12</td>\n",
       "      <td>Subscriber</td>\n",
       "      <td>Female</td>\n",
       "      <td>2017-10-01 12:10:00</td>\n",
       "      <td>...</td>\n",
       "      <td>131</td>\n",
       "      <td>Lincoln Ave &amp; Belmont Ave</td>\n",
       "      <td>41.939365</td>\n",
       "      <td>-87.668385</td>\n",
       "      <td>15.0</td>\n",
       "      <td>331</td>\n",
       "      <td>Halsted St &amp; Blackhawk St (*)</td>\n",
       "      <td>41.908537</td>\n",
       "      <td>-87.648627</td>\n",
       "      <td>20.0</td>\n",
       "    </tr>\n",
       "    <tr>\n",
       "      <td>19700</td>\n",
       "      <td>54492997</td>\n",
       "      <td>16738009</td>\n",
       "      <td>2017</td>\n",
       "      <td>10</td>\n",
       "      <td>39</td>\n",
       "      <td>6</td>\n",
       "      <td>12</td>\n",
       "      <td>Subscriber</td>\n",
       "      <td>Male</td>\n",
       "      <td>2017-10-01 12:09:00</td>\n",
       "      <td>...</td>\n",
       "      <td>131</td>\n",
       "      <td>Lincoln Ave &amp; Belmont Ave</td>\n",
       "      <td>41.939365</td>\n",
       "      <td>-87.668385</td>\n",
       "      <td>15.0</td>\n",
       "      <td>331</td>\n",
       "      <td>Halsted St &amp; Blackhawk St (*)</td>\n",
       "      <td>41.908537</td>\n",
       "      <td>-87.648627</td>\n",
       "      <td>20.0</td>\n",
       "    </tr>\n",
       "    <tr>\n",
       "      <td>19701</td>\n",
       "      <td>54493266</td>\n",
       "      <td>16737438</td>\n",
       "      <td>2017</td>\n",
       "      <td>10</td>\n",
       "      <td>39</td>\n",
       "      <td>6</td>\n",
       "      <td>11</td>\n",
       "      <td>Subscriber</td>\n",
       "      <td>Female</td>\n",
       "      <td>2017-10-01 11:42:00</td>\n",
       "      <td>...</td>\n",
       "      <td>131</td>\n",
       "      <td>Lincoln Ave &amp; Belmont Ave</td>\n",
       "      <td>41.939365</td>\n",
       "      <td>-87.668385</td>\n",
       "      <td>15.0</td>\n",
       "      <td>141</td>\n",
       "      <td>Clark St &amp; Lincoln Ave</td>\n",
       "      <td>41.915689</td>\n",
       "      <td>-87.634600</td>\n",
       "      <td>23.0</td>\n",
       "    </tr>\n",
       "    <tr>\n",
       "      <td>19702</td>\n",
       "      <td>54494157</td>\n",
       "      <td>16735795</td>\n",
       "      <td>2017</td>\n",
       "      <td>10</td>\n",
       "      <td>39</td>\n",
       "      <td>6</td>\n",
       "      <td>10</td>\n",
       "      <td>Subscriber</td>\n",
       "      <td>Female</td>\n",
       "      <td>2017-10-01 10:06:00</td>\n",
       "      <td>...</td>\n",
       "      <td>131</td>\n",
       "      <td>Lincoln Ave &amp; Belmont Ave</td>\n",
       "      <td>41.939365</td>\n",
       "      <td>-87.668385</td>\n",
       "      <td>15.0</td>\n",
       "      <td>156</td>\n",
       "      <td>Clark St &amp; Wellington Ave</td>\n",
       "      <td>41.936497</td>\n",
       "      <td>-87.647539</td>\n",
       "      <td>15.0</td>\n",
       "    </tr>\n",
       "  </tbody>\n",
       "</table>\n",
       "<p>5 rows × 24 columns</p>\n",
       "</div>"
      ],
      "text/plain": [
       "          index   trip_id  year  month  week  day  hour    usertype  gender  \\\n",
       "19698  54492364  16739309  2017     10    39    6    13  Subscriber    Male   \n",
       "19699  54492992  16738014  2017     10    39    6    12  Subscriber  Female   \n",
       "19700  54492997  16738009  2017     10    39    6    12  Subscriber    Male   \n",
       "19701  54493266  16737438  2017     10    39    6    11  Subscriber  Female   \n",
       "19702  54494157  16735795  2017     10    39    6    10  Subscriber  Female   \n",
       "\n",
       "                 starttime  ... from_station_id          from_station_name  \\\n",
       "19698  2017-10-01 13:04:00  ...             131  Lincoln Ave & Belmont Ave   \n",
       "19699  2017-10-01 12:10:00  ...             131  Lincoln Ave & Belmont Ave   \n",
       "19700  2017-10-01 12:09:00  ...             131  Lincoln Ave & Belmont Ave   \n",
       "19701  2017-10-01 11:42:00  ...             131  Lincoln Ave & Belmont Ave   \n",
       "19702  2017-10-01 10:06:00  ...             131  Lincoln Ave & Belmont Ave   \n",
       "\n",
       "       latitude_start longitude_start  dpcapacity_start to_station_id  \\\n",
       "19698       41.939365      -87.668385              15.0           214   \n",
       "19699       41.939365      -87.668385              15.0           331   \n",
       "19700       41.939365      -87.668385              15.0           331   \n",
       "19701       41.939365      -87.668385              15.0           141   \n",
       "19702       41.939365      -87.668385              15.0           156   \n",
       "\n",
       "                     to_station_name  latitude_end  longitude_end  \\\n",
       "19698          Damen Ave & Grand Ave     41.891220     -87.676860   \n",
       "19699  Halsted St & Blackhawk St (*)     41.908537     -87.648627   \n",
       "19700  Halsted St & Blackhawk St (*)     41.908537     -87.648627   \n",
       "19701         Clark St & Lincoln Ave     41.915689     -87.634600   \n",
       "19702      Clark St & Wellington Ave     41.936497     -87.647539   \n",
       "\n",
       "       dpcapacity_end  \n",
       "19698            23.0  \n",
       "19699            20.0  \n",
       "19700            20.0  \n",
       "19701            23.0  \n",
       "19702            15.0  \n",
       "\n",
       "[5 rows x 24 columns]"
      ]
     },
     "execution_count": 7,
     "metadata": {},
     "output_type": "execute_result"
    }
   ],
   "source": [
    "df.tail()"
   ]
  },
  {
   "cell_type": "code",
   "execution_count": 8,
   "metadata": {
    "metadata": {
     "deletable": false,
     "editable": false,
     "trusted": true
    }
   },
   "outputs": [
    {
     "data": {
      "text/plain": [
       "index                19703\n",
       "trip_id              19703\n",
       "year                 19703\n",
       "month                19703\n",
       "week                 19703\n",
       "day                  19703\n",
       "hour                 19703\n",
       "usertype             19703\n",
       "gender               19703\n",
       "starttime            19703\n",
       "stoptime             19703\n",
       "tripduration         19703\n",
       "temperature          19703\n",
       "events               19703\n",
       "from_station_id      19703\n",
       "from_station_name    19703\n",
       "latitude_start       19703\n",
       "longitude_start      19703\n",
       "dpcapacity_start     19703\n",
       "to_station_id        19703\n",
       "to_station_name      19703\n",
       "latitude_end         19703\n",
       "longitude_end        19703\n",
       "dpcapacity_end       19703\n",
       "dtype: int64"
      ]
     },
     "execution_count": 8,
     "metadata": {},
     "output_type": "execute_result"
    }
   ],
   "source": [
    "df.count()"
   ]
  },
  {
   "cell_type": "code",
   "execution_count": null,
   "metadata": {},
   "outputs": [],
   "source": []
  }
 ],
 "metadata": {
  "celltoolbar": "Edit Metadata",
  "kernelspec": {
   "display_name": "Python 3",
   "language": "python",
   "name": "python3"
  },
  "language_info": {
   "codemirror_mode": {
    "name": "ipython",
    "version": 3
   },
   "file_extension": ".py",
   "mimetype": "text/x-python",
   "name": "python",
   "nbconvert_exporter": "python",
   "pygments_lexer": "ipython3",
   "version": "3.7.4"
  }
 },
 "nbformat": 4,
 "nbformat_minor": 2
}
